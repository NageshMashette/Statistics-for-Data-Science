{
 "cells": [
  {
   "cell_type": "markdown",
   "metadata": {},
   "source": [
    "### In a single toss of 2 fair (evenly-weighted) six-sided dice, find the probability that their sum will be at most 9."
   ]
  },
  {
   "cell_type": "code",
   "execution_count": 1,
   "metadata": {},
   "outputs": [
    {
     "name": "stdout",
     "output_type": "stream",
     "text": [
      "5/6\n"
     ]
    }
   ],
   "source": [
    "import math\n",
    "from fractions import Fraction\n",
    "\n",
    "dice_max = 6\n",
    "dice_min = 1\n",
    "dice_range = range(dice_min, dice_max + 1)\n",
    "count = 0\n",
    "for d1 in dice_range:\n",
    "    for d2 in dice_range:\n",
    "        if (d1 + d2) <= 9:\n",
    "            count += 1\n",
    "possibilities = dice_max**2\n",
    "print(Fraction(count, possibilities))"
   ]
  },
  {
   "cell_type": "markdown",
   "metadata": {},
   "source": [
    "### In a single toss of  2 fair (evenly-weighted) six-sided dice, find the probability that the values rolled by each die will be different and the two dice have a sum of 6."
   ]
  },
  {
   "cell_type": "code",
   "execution_count": 5,
   "metadata": {},
   "outputs": [
    {
     "name": "stdout",
     "output_type": "stream",
     "text": [
      "range(1, 7)\n",
      "1/9\n"
     ]
    }
   ],
   "source": [
    "from fractions import Fraction\n",
    "\n",
    "dice_max = 6\n",
    "dice_min = 1\n",
    "dice_range = range(dice_min, dice_max+1)\n",
    "print(dice_range)\n",
    "count = 0\n",
    "for d1 in dice_range:\n",
    "    for d2 in dice_range:\n",
    "        if (d1 != d2) and (d1+d2 == 6):\n",
    "            count+=1\n",
    "possibilities = dice_max**2\n",
    "print(Fraction(count, possibilities))"
   ]
  },
  {
   "cell_type": "markdown",
   "metadata": {},
   "source": [
    "## Compound Event Probability"
   ]
  },
  {
   "cell_type": "raw",
   "metadata": {},
   "source": [
    "Task\n",
    "There are urns labeled X, Y, and Z.\n",
    "\n",
    "\n",
    "Urn X contains 4 red balls and 3 black balls.\n",
    "Urn Y contains 5 red balls and 4 black balls.\n",
    "Urn Z contains 4 red balls and 4 black balls."
   ]
  },
  {
   "cell_type": "markdown",
   "metadata": {},
   "source": [
    "### One ball is drawn from each of the 3 urns. What is the probability that, of the 3 balls drawn, 2 are red and 1 is black?\n"
   ]
  },
  {
   "cell_type": "code",
   "execution_count": 13,
   "metadata": {},
   "outputs": [
    {
     "name": "stdout",
     "output_type": "stream",
     "text": [
      "17/42\n"
     ]
    }
   ],
   "source": [
    "from fractions import Fraction\n",
    "\n",
    "ux_red = 4\n",
    "ux_black = 3\n",
    "ux_total = ux_red+ux_black\n",
    "\n",
    "uy_red = 5\n",
    "uy_black = 4\n",
    "uy_total = uy_red+uy_black\n",
    "\n",
    "uz_red = 4\n",
    "uz_black = 4\n",
    "uz_total = uz_red+uz_black\n",
    "\n",
    "px_red = Fraction(ux_red, ux_total)\n",
    "px_black = Fraction(ux_black, ux_total)\n",
    "\n",
    "py_red = Fraction(uy_red, uy_total)\n",
    "py_black = Fraction(uy_black, uy_total)\n",
    "\n",
    "pz_red = Fraction(uz_red, uz_total)\n",
    "pz_black = Fraction(uz_black, uz_total)\n",
    "\n",
    "possibility = px_red * py_red * pz_black + px_red * py_black * pz_red + px_black * py_red * pz_red\n",
    "print(possibility)"
   ]
  }
 ],
 "metadata": {
  "kernelspec": {
   "display_name": "Python 3",
   "language": "python",
   "name": "python3"
  },
  "language_info": {
   "codemirror_mode": {
    "name": "ipython",
    "version": 3
   },
   "file_extension": ".py",
   "mimetype": "text/x-python",
   "name": "python",
   "nbconvert_exporter": "python",
   "pygments_lexer": "ipython3",
   "version": "3.6.8"
  }
 },
 "nbformat": 4,
 "nbformat_minor": 4
}
